{
 "cells": [
  {
   "cell_type": "code",
   "execution_count": null,
   "id": "4b1f6551",
   "metadata": {},
   "outputs": [
    {
     "data": {
      "text/html": [
       "<div>\n",
       "<style scoped>\n",
       "    .dataframe tbody tr th:only-of-type {\n",
       "        vertical-align: middle;\n",
       "    }\n",
       "\n",
       "    .dataframe tbody tr th {\n",
       "        vertical-align: top;\n",
       "    }\n",
       "\n",
       "    .dataframe thead th {\n",
       "        text-align: right;\n",
       "    }\n",
       "</style>\n",
       "<table border=\"1\" class=\"dataframe\">\n",
       "  <thead>\n",
       "    <tr style=\"text-align: right;\">\n",
       "      <th></th>\n",
       "      <th>case_id</th>\n",
       "      <th>continent</th>\n",
       "      <th>education_of_employee</th>\n",
       "      <th>has_job_experience</th>\n",
       "      <th>requires_job_training</th>\n",
       "      <th>no_of_employees</th>\n",
       "      <th>yr_of_estab</th>\n",
       "      <th>region_of_employment</th>\n",
       "      <th>prevailing_wage</th>\n",
       "      <th>unit_of_wage</th>\n",
       "      <th>full_time_position</th>\n",
       "      <th>case_status</th>\n",
       "    </tr>\n",
       "  </thead>\n",
       "  <tbody>\n",
       "    <tr>\n",
       "      <th>0</th>\n",
       "      <td>EZYV01</td>\n",
       "      <td>Asia</td>\n",
       "      <td>High School</td>\n",
       "      <td>N</td>\n",
       "      <td>N</td>\n",
       "      <td>14513</td>\n",
       "      <td>2007</td>\n",
       "      <td>West</td>\n",
       "      <td>592.2029</td>\n",
       "      <td>Hour</td>\n",
       "      <td>Y</td>\n",
       "      <td>Denied</td>\n",
       "    </tr>\n",
       "    <tr>\n",
       "      <th>1</th>\n",
       "      <td>EZYV02</td>\n",
       "      <td>Asia</td>\n",
       "      <td>Master's</td>\n",
       "      <td>Y</td>\n",
       "      <td>N</td>\n",
       "      <td>2412</td>\n",
       "      <td>2002</td>\n",
       "      <td>Northeast</td>\n",
       "      <td>83425.6500</td>\n",
       "      <td>Year</td>\n",
       "      <td>Y</td>\n",
       "      <td>Certified</td>\n",
       "    </tr>\n",
       "    <tr>\n",
       "      <th>2</th>\n",
       "      <td>EZYV03</td>\n",
       "      <td>Asia</td>\n",
       "      <td>Bachelor's</td>\n",
       "      <td>N</td>\n",
       "      <td>Y</td>\n",
       "      <td>44444</td>\n",
       "      <td>2008</td>\n",
       "      <td>West</td>\n",
       "      <td>122996.8600</td>\n",
       "      <td>Year</td>\n",
       "      <td>Y</td>\n",
       "      <td>Denied</td>\n",
       "    </tr>\n",
       "    <tr>\n",
       "      <th>3</th>\n",
       "      <td>EZYV04</td>\n",
       "      <td>Asia</td>\n",
       "      <td>Bachelor's</td>\n",
       "      <td>N</td>\n",
       "      <td>N</td>\n",
       "      <td>98</td>\n",
       "      <td>1897</td>\n",
       "      <td>West</td>\n",
       "      <td>83434.0300</td>\n",
       "      <td>Year</td>\n",
       "      <td>Y</td>\n",
       "      <td>Denied</td>\n",
       "    </tr>\n",
       "    <tr>\n",
       "      <th>4</th>\n",
       "      <td>EZYV05</td>\n",
       "      <td>Africa</td>\n",
       "      <td>Master's</td>\n",
       "      <td>Y</td>\n",
       "      <td>N</td>\n",
       "      <td>1082</td>\n",
       "      <td>2005</td>\n",
       "      <td>South</td>\n",
       "      <td>149907.3900</td>\n",
       "      <td>Year</td>\n",
       "      <td>Y</td>\n",
       "      <td>Certified</td>\n",
       "    </tr>\n",
       "  </tbody>\n",
       "</table>\n",
       "</div>"
      ],
      "text/plain": [
       "  case_id continent education_of_employee has_job_experience  \\\n",
       "0  EZYV01      Asia           High School                  N   \n",
       "1  EZYV02      Asia              Master's                  Y   \n",
       "2  EZYV03      Asia            Bachelor's                  N   \n",
       "3  EZYV04      Asia            Bachelor's                  N   \n",
       "4  EZYV05    Africa              Master's                  Y   \n",
       "\n",
       "  requires_job_training  no_of_employees  yr_of_estab region_of_employment  \\\n",
       "0                     N            14513         2007                 West   \n",
       "1                     N             2412         2002            Northeast   \n",
       "2                     Y            44444         2008                 West   \n",
       "3                     N               98         1897                 West   \n",
       "4                     N             1082         2005                South   \n",
       "\n",
       "   prevailing_wage unit_of_wage full_time_position case_status  \n",
       "0         592.2029         Hour                  Y      Denied  \n",
       "1       83425.6500         Year                  Y   Certified  \n",
       "2      122996.8600         Year                  Y      Denied  \n",
       "3       83434.0300         Year                  Y      Denied  \n",
       "4      149907.3900         Year                  Y   Certified  "
      ]
     },
     "execution_count": 51,
     "metadata": {},
     "output_type": "execute_result"
    }
   ],
   "source": [
    "import pandas as pd\n",
    "import numpy as np\n",
    "import matplotlib.pyplot as plt\n",
    "import seaborn as sns\n",
    "\n",
    "\n",
    "df = pd.read_csv(r\"D:\\Projects\\ML projects\\Visa Approval\\data\\Visadataset.csv\")\n",
    "df.head()"
   ]
  },
  {
   "cell_type": "code",
   "execution_count": 3,
   "id": "7724589b",
   "metadata": {},
   "outputs": [
    {
     "data": {
      "text/plain": [
       "case_status\n",
       "Certified    17018\n",
       "Denied        8462\n",
       "Name: count, dtype: int64"
      ]
     },
     "execution_count": 3,
     "metadata": {},
     "output_type": "execute_result"
    }
   ],
   "source": [
    "df['case_status'].value_counts()"
   ]
  },
  {
   "cell_type": "code",
   "execution_count": 4,
   "id": "6f0caca2",
   "metadata": {},
   "outputs": [
    {
     "data": {
      "text/plain": [
       "(25480, 12)"
      ]
     },
     "execution_count": 4,
     "metadata": {},
     "output_type": "execute_result"
    }
   ],
   "source": [
    "df.shape"
   ]
  },
  {
   "cell_type": "code",
   "execution_count": 5,
   "id": "1e0e5ec1",
   "metadata": {},
   "outputs": [
    {
     "data": {
      "text/html": [
       "<div>\n",
       "<style scoped>\n",
       "    .dataframe tbody tr th:only-of-type {\n",
       "        vertical-align: middle;\n",
       "    }\n",
       "\n",
       "    .dataframe tbody tr th {\n",
       "        vertical-align: top;\n",
       "    }\n",
       "\n",
       "    .dataframe thead th {\n",
       "        text-align: right;\n",
       "    }\n",
       "</style>\n",
       "<table border=\"1\" class=\"dataframe\">\n",
       "  <thead>\n",
       "    <tr style=\"text-align: right;\">\n",
       "      <th></th>\n",
       "      <th>no_of_employees</th>\n",
       "      <th>yr_of_estab</th>\n",
       "      <th>prevailing_wage</th>\n",
       "    </tr>\n",
       "  </thead>\n",
       "  <tbody>\n",
       "    <tr>\n",
       "      <th>count</th>\n",
       "      <td>25480.000000</td>\n",
       "      <td>25480.000000</td>\n",
       "      <td>25480.000000</td>\n",
       "    </tr>\n",
       "    <tr>\n",
       "      <th>mean</th>\n",
       "      <td>5667.043210</td>\n",
       "      <td>1979.409929</td>\n",
       "      <td>74455.814592</td>\n",
       "    </tr>\n",
       "    <tr>\n",
       "      <th>std</th>\n",
       "      <td>22877.928848</td>\n",
       "      <td>42.366929</td>\n",
       "      <td>52815.942327</td>\n",
       "    </tr>\n",
       "    <tr>\n",
       "      <th>min</th>\n",
       "      <td>-26.000000</td>\n",
       "      <td>1800.000000</td>\n",
       "      <td>2.136700</td>\n",
       "    </tr>\n",
       "    <tr>\n",
       "      <th>25%</th>\n",
       "      <td>1022.000000</td>\n",
       "      <td>1976.000000</td>\n",
       "      <td>34015.480000</td>\n",
       "    </tr>\n",
       "    <tr>\n",
       "      <th>50%</th>\n",
       "      <td>2109.000000</td>\n",
       "      <td>1997.000000</td>\n",
       "      <td>70308.210000</td>\n",
       "    </tr>\n",
       "    <tr>\n",
       "      <th>75%</th>\n",
       "      <td>3504.000000</td>\n",
       "      <td>2005.000000</td>\n",
       "      <td>107735.512500</td>\n",
       "    </tr>\n",
       "    <tr>\n",
       "      <th>max</th>\n",
       "      <td>602069.000000</td>\n",
       "      <td>2016.000000</td>\n",
       "      <td>319210.270000</td>\n",
       "    </tr>\n",
       "  </tbody>\n",
       "</table>\n",
       "</div>"
      ],
      "text/plain": [
       "       no_of_employees   yr_of_estab  prevailing_wage\n",
       "count     25480.000000  25480.000000     25480.000000\n",
       "mean       5667.043210   1979.409929     74455.814592\n",
       "std       22877.928848     42.366929     52815.942327\n",
       "min         -26.000000   1800.000000         2.136700\n",
       "25%        1022.000000   1976.000000     34015.480000\n",
       "50%        2109.000000   1997.000000     70308.210000\n",
       "75%        3504.000000   2005.000000    107735.512500\n",
       "max      602069.000000   2016.000000    319210.270000"
      ]
     },
     "execution_count": 5,
     "metadata": {},
     "output_type": "execute_result"
    }
   ],
   "source": [
    "df.describe()"
   ]
  },
  {
   "cell_type": "code",
   "execution_count": 6,
   "id": "b15ee85a",
   "metadata": {},
   "outputs": [
    {
     "name": "stdout",
     "output_type": "stream",
     "text": [
      "<class 'pandas.core.frame.DataFrame'>\n",
      "RangeIndex: 25480 entries, 0 to 25479\n",
      "Data columns (total 12 columns):\n",
      " #   Column                 Non-Null Count  Dtype  \n",
      "---  ------                 --------------  -----  \n",
      " 0   case_id                25480 non-null  object \n",
      " 1   continent              25480 non-null  object \n",
      " 2   education_of_employee  25480 non-null  object \n",
      " 3   has_job_experience     25480 non-null  object \n",
      " 4   requires_job_training  25480 non-null  object \n",
      " 5   no_of_employees        25480 non-null  int64  \n",
      " 6   yr_of_estab            25480 non-null  int64  \n",
      " 7   region_of_employment   25480 non-null  object \n",
      " 8   prevailing_wage        25480 non-null  float64\n",
      " 9   unit_of_wage           25480 non-null  object \n",
      " 10  full_time_position     25480 non-null  object \n",
      " 11  case_status            25480 non-null  object \n",
      "dtypes: float64(1), int64(2), object(9)\n",
      "memory usage: 2.3+ MB\n"
     ]
    }
   ],
   "source": [
    "df.info()"
   ]
  },
  {
   "cell_type": "code",
   "execution_count": 7,
   "id": "56ebbb53",
   "metadata": {},
   "outputs": [
    {
     "name": "stdout",
     "output_type": "stream",
     "text": [
      "Numeric Columns 3: Index(['no_of_employees', 'yr_of_estab', 'prevailing_wage'], dtype='object')\n",
      "Categoric Columns 9: Index(['case_id', 'continent', 'education_of_employee', 'has_job_experience',\n",
      "       'requires_job_training', 'region_of_employment', 'unit_of_wage',\n",
      "       'full_time_position', 'case_status'],\n",
      "      dtype='object')\n"
     ]
    }
   ],
   "source": [
    "numeric_features = df.select_dtypes(exclude=\"object\").columns\n",
    "categoric_features = df.select_dtypes(include=\"object\").columns\n",
    "\n",
    "print(f\"Numeric Columns {len(numeric_features)}: {numeric_features}\")\n",
    "print(f\"Categoric Columns {len(categoric_features)}: {categoric_features}\")"
   ]
  },
  {
   "cell_type": "code",
   "execution_count": 8,
   "id": "76d4bd31",
   "metadata": {},
   "outputs": [
    {
     "data": {
      "text/plain": [
       "case_id                  0\n",
       "continent                0\n",
       "education_of_employee    0\n",
       "has_job_experience       0\n",
       "requires_job_training    0\n",
       "no_of_employees          0\n",
       "yr_of_estab              0\n",
       "region_of_employment     0\n",
       "prevailing_wage          0\n",
       "unit_of_wage             0\n",
       "full_time_position       0\n",
       "case_status              0\n",
       "dtype: int64"
      ]
     },
     "execution_count": 8,
     "metadata": {},
     "output_type": "execute_result"
    }
   ],
   "source": [
    "df.isnull().sum()"
   ]
  },
  {
   "cell_type": "code",
   "execution_count": 9,
   "id": "0ae69ba5",
   "metadata": {},
   "outputs": [
    {
     "data": {
      "text/plain": [
       "0"
      ]
     },
     "execution_count": 9,
     "metadata": {},
     "output_type": "execute_result"
    }
   ],
   "source": [
    "df.duplicated().sum()"
   ]
  },
  {
   "cell_type": "code",
   "execution_count": 10,
   "id": "06f2b052",
   "metadata": {},
   "outputs": [
    {
     "data": {
      "image/png": "[encoded data removed]",
      "text/plain": [
       "<Figure size 1200x1000 with 3 Axes>"
      ]
     },
     "metadata": {},
     "output_type": "display_data"
    }
   ],
   "source": [
    "plt.figure(figsize=(12,10))\n",
    "\n",
    "for i , col in enumerate(numeric_features):\n",
    "    plt.subplot(2,2,i+1)\n",
    "    sns.kdeplot(df[col])\n",
    "    plt.xlabel(col)\n",
    "    plt.tight_layout()\n",
    "\n",
    "plt.show()"
   ]
  },
  {
   "cell_type": "code",
   "execution_count": 11,
   "id": "58255623",
   "metadata": {},
   "outputs": [],
   "source": [
    "# plt.figure(figsize=(12,10))\n",
    "\n",
    "# for i , col in enumerate(categoric_features):\n",
    "#     plt.subplot(3,3,i+1)\n",
    "#     sns.countplot(df[col])\n",
    "#     plt.xlabel(col)\n",
    "#     plt.tight_layout()\n",
    "# plt.show()"
   ]
  },
  {
   "cell_type": "code",
   "execution_count": 12,
   "id": "7c3bb96b",
   "metadata": {},
   "outputs": [],
   "source": [
    "df = df.drop(\"case_id\",axis=1)\n"
   ]
  },
  {
   "cell_type": "code",
   "execution_count": 13,
   "id": "05cde511",
   "metadata": {},
   "outputs": [],
   "source": [
    "from datetime import date\n",
    "\n",
    "today = date.today()\n",
    "current_year = today.year\n",
    "df['company_age'] = current_year-df[\"yr_of_estab\"]"
   ]
  },
  {
   "cell_type": "code",
   "execution_count": 14,
   "id": "f11797ef",
   "metadata": {},
   "outputs": [],
   "source": [
    "df = df.drop(columns=\"yr_of_estab\")\n"
   ]
  },
  {
   "cell_type": "code",
   "execution_count": 15,
   "id": "a18bc276",
   "metadata": {},
   "outputs": [
    {
     "name": "stdout",
     "output_type": "stream",
     "text": [
      "Numeric Columns 3: Index(['no_of_employees', 'prevailing_wage', 'company_age'], dtype='object')\n",
      "Categoric Columns 8: Index(['continent', 'education_of_employee', 'has_job_experience',\n",
      "       'requires_job_training', 'region_of_employment', 'unit_of_wage',\n",
      "       'full_time_position', 'case_status'],\n",
      "      dtype='object')\n"
     ]
    }
   ],
   "source": [
    "numeric_features = df.select_dtypes(exclude=\"object\").columns\n",
    "categoric_features = df.select_dtypes(include=\"object\").columns\n",
    "\n",
    "print(f\"Numeric Columns {len(numeric_features)}: {numeric_features}\")\n",
    "print(f\"Categoric Columns {len(categoric_features)}: {categoric_features}\")"
   ]
  },
  {
   "cell_type": "code",
   "execution_count": 16,
   "id": "a95609cd",
   "metadata": {},
   "outputs": [
    {
     "name": "stdout",
     "output_type": "stream",
     "text": [
      "Unique values in continent: ['Asia' 'Africa' 'North America' 'Europe' 'South America' 'Oceania']\n",
      "Unique values in education_of_employee: ['High School' \"Master's\" \"Bachelor's\" 'Doctorate']\n",
      "Unique values in has_job_experience: ['N' 'Y']\n",
      "Unique values in requires_job_training: ['N' 'Y']\n",
      "Unique values in region_of_employment: ['West' 'Northeast' 'South' 'Midwest' 'Island']\n",
      "Unique values in unit_of_wage: ['Hour' 'Year' 'Week' 'Month']\n",
      "Unique values in full_time_position: ['Y' 'N']\n",
      "Unique values in case_status: ['Denied' 'Certified']\n"
     ]
    }
   ],
   "source": [
    "for col in categoric_features:\n",
    "    print(f\"Unique values in {col}: {df[col].unique()}\")"
   ]
  },
  {
   "cell_type": "code",
   "execution_count": 17,
   "id": "b7928485",
   "metadata": {},
   "outputs": [
    {
     "name": "stdout",
     "output_type": "stream",
     "text": [
      "Column continent: continent\n",
      "Asia             16861\n",
      "Europe            3732\n",
      "North America     3292\n",
      "South America      852\n",
      "Africa             551\n",
      "Oceania            192\n",
      "Name: count, dtype: int64\n",
      "Column education_of_employee: education_of_employee\n",
      "Bachelor's     10234\n",
      "Master's        9634\n",
      "High School     3420\n",
      "Doctorate       2192\n",
      "Name: count, dtype: int64\n",
      "Column has_job_experience: has_job_experience\n",
      "Y    14802\n",
      "N    10678\n",
      "Name: count, dtype: int64\n",
      "Column requires_job_training: requires_job_training\n",
      "N    22525\n",
      "Y     2955\n",
      "Name: count, dtype: int64\n",
      "Column region_of_employment: region_of_employment\n",
      "Northeast    7195\n",
      "South        7017\n",
      "West         6586\n",
      "Midwest      4307\n",
      "Island        375\n",
      "Name: count, dtype: int64\n",
      "Column unit_of_wage: unit_of_wage\n",
      "Year     22962\n",
      "Hour      2157\n",
      "Week       272\n",
      "Month       89\n",
      "Name: count, dtype: int64\n",
      "Column full_time_position: full_time_position\n",
      "Y    22773\n",
      "N     2707\n",
      "Name: count, dtype: int64\n",
      "Column case_status: case_status\n",
      "Certified    17018\n",
      "Denied        8462\n",
      "Name: count, dtype: int64\n"
     ]
    }
   ],
   "source": [
    "for col in categoric_features:\n",
    "    print(f\"Column {col}: {df[col].value_counts()}\")"
   ]
  },
  {
   "cell_type": "code",
   "execution_count": 18,
   "id": "910f47c1",
   "metadata": {},
   "outputs": [],
   "source": [
    "from sklearn.preprocessing import  LabelEncoder\n",
    "\n",
    "encoder = LabelEncoder()\n",
    "for columns in categoric_features:\n",
    "    df[columns] = encoder.fit_transform(df[columns])\n",
    "# Feature Scaling is not performed here,because Tree based models are not sensitive to feature scaling."
   ]
  },
  {
   "cell_type": "code",
   "execution_count": 19,
   "id": "b7312082",
   "metadata": {},
   "outputs": [],
   "source": [
    "x = df.drop(columns=\"case_status\")\n",
    "y = df[\"case_status\"]"
   ]
  },
  {
   "cell_type": "code",
   "execution_count": 20,
   "id": "84b9f60f",
   "metadata": {},
   "outputs": [
    {
     "name": "stdout",
     "output_type": "stream",
     "text": [
      "(20384, 10) (5096, 10) (20384,) (5096,)\n"
     ]
    }
   ],
   "source": [
    "from sklearn.model_selection import train_test_split\n",
    "\n",
    "x_train , x_test , y_train , y_test = train_test_split(x,y,test_size=0.2,random_state =42)\n",
    "print(x_train.shape , x_test.shape , y_train.shape , y_test.shape)"
   ]
  },
  {
   "cell_type": "code",
   "execution_count": 21,
   "id": "9feb332e",
   "metadata": {},
   "outputs": [
    {
     "name": "stdout",
     "output_type": "stream",
     "text": [
      "continent\n",
      "education_of_employee\n",
      "has_job_experience\n",
      "requires_job_training\n",
      "region_of_employment\n",
      "unit_of_wage\n",
      "full_time_position\n",
      "case_status\n"
     ]
    }
   ],
   "source": [
    "for col in categoric_features:\n",
    "    print(col)"
   ]
  },
  {
   "cell_type": "code",
   "execution_count": 22,
   "id": "84313f19",
   "metadata": {},
   "outputs": [
    {
     "name": "stdout",
     "output_type": "stream",
     "text": [
      "Key: continent Value: ['Africa' 'Asia' 'Europe' 'North America' 'Oceania' 'South America']\n",
      "Key: education_of_employee Value: [\"Bachelor's\" 'Doctorate' 'High School' \"Master's\"]\n",
      "Key: has_job_experience Value: ['N' 'Y']\n",
      "Key: requires_job_training Value: ['N' 'Y']\n",
      "Key: region_of_employment Value: ['Island' 'Midwest' 'Northeast' 'South' 'West']\n",
      "Key: unit_of_wage Value: ['Hour' 'Month' 'Week' 'Year']\n",
      "Key: full_time_position Value: ['N' 'Y']\n",
      "Key: case_status Value: ['Certified' 'Denied']\n"
     ]
    },
    {
     "data": {
      "text/plain": [
       "array([3])"
      ]
     },
     "execution_count": 22,
     "metadata": {},
     "output_type": "execute_result"
    }
   ],
   "source": [
    "import pickle\n",
    "with open(r\"D:\\Projects\\ML projects\\Visa Approval\\model\\model1.pkl\", \"rb\") as f:\n",
    "        load_artifacts = pickle.load(f)\n",
    "\n",
    "        model = load_artifacts['model']\n",
    "        encoder = load_artifacts['label'] \n",
    "\n",
    "for key,val in encoder.items():\n",
    "    print(f\"Key: {key} Value: {val.classes_}\")\n",
    "\n",
    "\n",
    "encoder['continent'].transform(['North America'])"
   ]
  },
  {
   "cell_type": "code",
   "execution_count": 23,
   "id": "2aeed2ab",
   "metadata": {},
   "outputs": [
    {
     "data": {
      "text/plain": [
       "<Axes: >"
      ]
     },
     "execution_count": 23,
     "metadata": {},
     "output_type": "execute_result"
    },
    {
     "data": {
      "image/png": "[encoded data removed]",
      "text/plain": [
       "<Figure size 640x480 with 2 Axes>"
      ]
     },
     "metadata": {},
     "output_type": "display_data"
    }
   ],
   "source": [
    "from sklearn.tree import DecisionTreeClassifier\n",
    "\n",
    "dt = DecisionTreeClassifier()\n",
    "dt.fit(x_train,y_train)\n",
    "\n",
    "y_pred = dt.predict(x_test)\n",
    "\n",
    "from sklearn.metrics import confusion_matrix,classification_report\n",
    "\n",
    "conn = confusion_matrix(y_pred,y_test)\n",
    "sns.heatmap(conn,annot = True,fmt=\".0f\")"
   ]
  },
  {
   "cell_type": "code",
   "execution_count": 24,
   "id": "ff169dda",
   "metadata": {},
   "outputs": [
    {
     "data": {
      "text/plain": [
       "case_status\n",
       "0    13617\n",
       "1     6767\n",
       "Name: count, dtype: int64"
      ]
     },
     "execution_count": 24,
     "metadata": {},
     "output_type": "execute_result"
    }
   ],
   "source": [
    "y_train.value_counts()"
   ]
  },
  {
   "cell_type": "code",
   "execution_count": 25,
   "id": "6fea44f9",
   "metadata": {},
   "outputs": [
    {
     "name": "stdout",
     "output_type": "stream",
     "text": [
      "Decison Tree\n",
      "              precision    recall  f1-score   support\n",
      "\n",
      "           0       0.75      0.75      0.75      3418\n",
      "           1       0.49      0.50      0.49      1678\n",
      "\n",
      "    accuracy                           0.67      5096\n",
      "   macro avg       0.62      0.62      0.62      5096\n",
      "weighted avg       0.67      0.67      0.67      5096\n",
      "\n"
     ]
    }
   ],
   "source": [
    "print(\"Decison Tree\")\n",
    "print(classification_report(y_pred,y_test))"
   ]
  },
  {
   "cell_type": "code",
   "execution_count": 26,
   "id": "39946815",
   "metadata": {},
   "outputs": [
    {
     "name": "stdout",
     "output_type": "stream",
     "text": [
      "Decison Tree after SMOTE\n",
      "              precision    recall  f1-score   support\n",
      "\n",
      "           0       0.68      0.75      0.71      3059\n",
      "           1       0.56      0.46      0.50      2037\n",
      "\n",
      "    accuracy                           0.64      5096\n",
      "   macro avg       0.62      0.61      0.61      5096\n",
      "weighted avg       0.63      0.64      0.63      5096\n",
      "\n"
     ]
    }
   ],
   "source": [
    "from imblearn.over_sampling import SMOTE\n",
    "\n",
    "smote = SMOTE(random_state=42)\n",
    "x_train_resampled, y_train_resampled = smote.fit_resample(x_train, y_train) \n",
    "\n",
    "\n",
    "smote_dt = DecisionTreeClassifier()\n",
    "smote_dt.fit(x_train_resampled,y_train_resampled)\n",
    "\n",
    "y_pred = smote_dt.predict(x_test)\n",
    "print(\"Decison Tree after SMOTE\")\n",
    "print(classification_report(y_pred,y_test))"
   ]
  },
  {
   "cell_type": "code",
   "execution_count": 27,
   "id": "89ed7a51",
   "metadata": {},
   "outputs": [
    {
     "name": "stdout",
     "output_type": "stream",
     "text": [
      "Decison Tree after Weighted Class\n",
      "              precision    recall  f1-score   support\n",
      "\n",
      "           0       0.76      0.75      0.75      3437\n",
      "           1       0.49      0.50      0.50      1659\n",
      "\n",
      "    accuracy                           0.67      5096\n",
      "   macro avg       0.62      0.62      0.62      5096\n",
      "weighted avg       0.67      0.67      0.67      5096\n",
      "\n"
     ]
    }
   ],
   "source": [
    "weighted_model = DecisionTreeClassifier(class_weight=\"balanced\",random_state=42)\n",
    "weighted_model.fit(x_train,y_train)\n",
    "y_pred = weighted_model.predict(x_test)\n",
    "print(\"Decison Tree after Weighted Class\")\n",
    "print(classification_report(y_pred,y_test))"
   ]
  },
  {
   "cell_type": "code",
   "execution_count": 28,
   "id": "d9916749",
   "metadata": {},
   "outputs": [
    {
     "name": "stdout",
     "output_type": "stream",
     "text": [
      "Decison Tree after Weighted Class and SMOTE\n",
      "              precision    recall  f1-score   support\n",
      "\n",
      "           0       0.68      0.75      0.71      3078\n",
      "           1       0.55      0.46      0.50      2018\n",
      "\n",
      "    accuracy                           0.64      5096\n",
      "   macro avg       0.61      0.61      0.61      5096\n",
      "weighted avg       0.63      0.64      0.63      5096\n",
      "\n"
     ]
    }
   ],
   "source": [
    "\n",
    "smote_weighted_model = DecisionTreeClassifier(class_weight=\"balanced\",random_state=42)\n",
    "smote_weighted_model.fit(x_train_resampled,y_train_resampled)\n",
    "y_pred = smote_weighted_model.predict(x_test)\n",
    "print(\"Decison Tree after Weighted Class and SMOTE\")\n",
    "print(classification_report(y_pred,y_test))"
   ]
  },
  {
   "cell_type": "code",
   "execution_count": 29,
   "id": "31161eb2",
   "metadata": {},
   "outputs": [
    {
     "name": "stdout",
     "output_type": "stream",
     "text": [
      "[LightGBM] [Info] Number of positive: 6767, number of negative: 13617\n",
      "[LightGBM] [Info] Auto-choosing row-wise multi-threading, the overhead of testing was 0.000931 seconds.\n",
      "You can set `force_row_wise=true` to remove the overhead.\n",
      "And if memory is not enough, you can set `force_col_wise=true`.\n",
      "[LightGBM] [Info] Total Bins 732\n",
      "[LightGBM] [Info] Number of data points in the train set: 20384, number of used features: 10\n",
      "[LightGBM] [Info] [binary:BoostFromScore]: pavg=0.331976 -> initscore=-0.699261\n",
      "[LightGBM] [Info] Start training from score -0.699261\n",
      "lIght GBM\n",
      "              precision    recall  f1-score   support\n",
      "\n",
      "           0       0.75      0.83      0.78      3078\n",
      "           1       0.68      0.57      0.62      2018\n",
      "\n",
      "    accuracy                           0.73      5096\n",
      "   macro avg       0.72      0.70      0.70      5096\n",
      "weighted avg       0.72      0.73      0.72      5096\n",
      "\n"
     ]
    }
   ],
   "source": [
    "import lightgbm as lgb\n",
    "lgbm = lgb.LGBMClassifier(is_unbalance=True, random_state=42)\n",
    "lgbm.fit(x_train, y_train)\n",
    "y_pred = lgbm.predict(x_test)\n",
    "print(\"lIght GBM\")\n",
    "print(classification_report(y_pred,y_test))"
   ]
  },
  {
   "cell_type": "code",
   "execution_count": 30,
   "id": "681448c6",
   "metadata": {},
   "outputs": [
    {
     "name": "stdout",
     "output_type": "stream",
     "text": [
      "[LightGBM] [Info] Number of positive: 5439, number of negative: 10868\n",
      "[LightGBM] [Info] Auto-choosing row-wise multi-threading, the overhead of testing was 0.000447 seconds.\n",
      "You can set `force_row_wise=true` to remove the overhead.\n",
      "And if memory is not enough, you can set `force_col_wise=true`.\n",
      "[LightGBM] [Info] Total Bins 730\n",
      "[LightGBM] [Info] Number of data points in the train set: 16307, number of used features: 10\n",
      "[LightGBM] [Info] [binary:BoostFromScore]: pavg=0.333538 -> initscore=-0.692227\n",
      "[LightGBM] [Info] Start training from score -0.692227\n",
      "[LightGBM] [Info] Number of positive: 5416, number of negative: 10891\n",
      "[LightGBM] [Info] Auto-choosing row-wise multi-threading, the overhead of testing was 0.001157 seconds.\n",
      "You can set `force_row_wise=true` to remove the overhead.\n",
      "And if memory is not enough, you can set `force_col_wise=true`.\n",
      "[LightGBM] [Info] Total Bins 732\n",
      "[LightGBM] [Info] Number of data points in the train set: 16307, number of used features: 10\n",
      "[LightGBM] [Info] [binary:BoostFromScore]: pavg=0.332127 -> initscore=-0.698579\n",
      "[LightGBM] [Info] Start training from score -0.698579\n",
      "[LightGBM] [Info] Number of positive: 5406, number of negative: 10901\n",
      "[LightGBM] [Info] Auto-choosing col-wise multi-threading, the overhead of testing was 0.001189 seconds.\n",
      "You can set `force_col_wise=true` to remove the overhead.\n",
      "[LightGBM] [Info] Total Bins 731\n",
      "[LightGBM] [Info] Number of data points in the train set: 16307, number of used features: 10\n",
      "[LightGBM] [Info] [binary:BoostFromScore]: pavg=0.331514 -> initscore=-0.701345\n",
      "[LightGBM] [Info] Start training from score -0.701345\n",
      "[LightGBM] [Info] Number of positive: 5369, number of negative: 10938\n",
      "[LightGBM] [Info] Auto-choosing row-wise multi-threading, the overhead of testing was 0.000499 seconds.\n",
      "You can set `force_row_wise=true` to remove the overhead.\n",
      "And if memory is not enough, you can set `force_col_wise=true`.\n",
      "[LightGBM] [Info] Total Bins 731\n",
      "[LightGBM] [Info] Number of data points in the train set: 16307, number of used features: 10\n",
      "[LightGBM] [Info] [binary:BoostFromScore]: pavg=0.329245 -> initscore=-0.711601\n",
      "[LightGBM] [Info] Start training from score -0.711601\n",
      "[LightGBM] [Info] Number of positive: 5438, number of negative: 10870\n",
      "[LightGBM] [Info] Auto-choosing row-wise multi-threading, the overhead of testing was 0.000496 seconds.\n",
      "You can set `force_row_wise=true` to remove the overhead.\n",
      "And if memory is not enough, you can set `force_col_wise=true`.\n",
      "[LightGBM] [Info] Total Bins 732\n",
      "[LightGBM] [Info] Number of data points in the train set: 16308, number of used features: 10\n",
      "[LightGBM] [Info] [binary:BoostFromScore]: pavg=0.333456 -> initscore=-0.692595\n",
      "[LightGBM] [Info] Start training from score -0.692595\n",
      "Cross-Validation Results (Accuracy):\n",
      "  Fold 0: 72.06%\n",
      "  Fold 1: 71.25%\n",
      "  Fold 2: 71.47%\n",
      "  Fold 3: 72.11%\n",
      "  Fold 4: 71.79%\n",
      "Mean Accuracy: 71.74%\n"
     ]
    }
   ],
   "source": [
    "from sklearn.model_selection import KFold, cross_val_score\n",
    "\n",
    "num_folds =  5\n",
    "kf = KFold(n_splits = num_folds,shuffle = True,random_state=42)\n",
    "cross_val_results = cross_val_score(lgbm, x_train, y_train, cv=kf)\n",
    "print(\"Cross-Validation Results (Accuracy):\")\n",
    "for i, result in enumerate(cross_val_results):\n",
    "    print(f\"  Fold {i}: {result * 100:.2f}%\")\n",
    "    \n",
    "print(f'Mean Accuracy: {cross_val_results.mean()* 100:.2f}%')\n"
   ]
  },
  {
   "cell_type": "code",
   "execution_count": null,
   "id": "26bcb66f",
   "metadata": {},
   "outputs": [
    {
     "name": "stdout",
     "output_type": "stream",
     "text": [
      "[LightGBM] [Info] Number of positive: 5413, number of negative: 10894\n",
      "[LightGBM] [Info] Auto-choosing row-wise multi-threading, the overhead of testing was 0.000478 seconds.\n",
      "You can set `force_row_wise=true` to remove the overhead.\n",
      "And if memory is not enough, you can set `force_col_wise=true`.\n",
      "[LightGBM] [Info] Total Bins 730\n",
      "[LightGBM] [Info] Number of data points in the train set: 16307, number of used features: 10\n",
      "[LightGBM] [Info] [binary:BoostFromScore]: pavg=0.331943 -> initscore=-0.699409\n",
      "[LightGBM] [Info] Start training from score -0.699409\n",
      "[LightGBM] [Info] Number of positive: 5413, number of negative: 10894\n",
      "[LightGBM] [Info] Auto-choosing row-wise multi-threading, the overhead of testing was 0.000324 seconds.\n",
      "You can set `force_row_wise=true` to remove the overhead.\n",
      "And if memory is not enough, you can set `force_col_wise=true`.\n",
      "[LightGBM] [Info] Total Bins 731\n",
      "[LightGBM] [Info] Number of data points in the train set: 16307, number of used features: 10\n",
      "[LightGBM] [Info] [binary:BoostFromScore]: pavg=0.331943 -> initscore=-0.699409\n",
      "[LightGBM] [Info] Start training from score -0.699409\n",
      "[LightGBM] [Info] Number of positive: 5414, number of negative: 10893\n",
      "[LightGBM] [Info] Auto-choosing row-wise multi-threading, the overhead of testing was 0.000406 seconds.\n",
      "You can set `force_row_wise=true` to remove the overhead.\n",
      "And if memory is not enough, you can set `force_col_wise=true`.\n",
      "[LightGBM] [Info] Total Bins 731\n",
      "[LightGBM] [Info] Number of data points in the train set: 16307, number of used features: 10\n",
      "[LightGBM] [Info] [binary:BoostFromScore]: pavg=0.332005 -> initscore=-0.699132\n",
      "[LightGBM] [Info] Start training from score -0.699132\n",
      "[LightGBM] [Info] Number of positive: 5414, number of negative: 10893\n",
      "[LightGBM] [Info] Auto-choosing row-wise multi-threading, the overhead of testing was 0.000520 seconds.\n",
      "You can set `force_row_wise=true` to remove the overhead.\n",
      "And if memory is not enough, you can set `force_col_wise=true`.\n",
      "[LightGBM] [Info] Total Bins 731\n",
      "[LightGBM] [Info] Number of data points in the train set: 16307, number of used features: 10\n",
      "[LightGBM] [Info] [binary:BoostFromScore]: pavg=0.332005 -> initscore=-0.699132\n",
      "[LightGBM] [Info] Start training from score -0.699132\n",
      "[LightGBM] [Info] Number of positive: 5414, number of negative: 10894\n",
      "[LightGBM] [Info] Auto-choosing row-wise multi-threading, the overhead of testing was 0.000362 seconds.\n",
      "You can set `force_row_wise=true` to remove the overhead.\n",
      "And if memory is not enough, you can set `force_col_wise=true`.\n",
      "[LightGBM] [Info] Total Bins 731\n",
      "[LightGBM] [Info] Number of data points in the train set: 16308, number of used features: 10\n",
      "[LightGBM] [Info] [binary:BoostFromScore]: pavg=0.331984 -> initscore=-0.699224\n",
      "[LightGBM] [Info] Start training from score -0.699224\n",
      "  Fold 4: 71.30%\n",
      "  Fold 4: 72.33%\n",
      "  Fold 4: 71.89%\n",
      "  Fold 4: 70.91%\n",
      "  Fold 4: 70.66%\n",
      "Mean Accuracy: 71.42%\n"
     ]
    }
   ],
   "source": [
    "from sklearn.model_selection import StratifiedKFold\n",
    "skf = StratifiedKFold(n_splits=num_folds, shuffle=True, random_state=42)\n",
    "cross_val_results = cross_val_score(lgbm, x_train, y_train, cv=skf)\n",
    "for result in cross_val_results:\n",
    "    print(f\"  Fold {i}: {result * 100:.2f}%\")\n",
    "print(f'Mean Accuracy: {cross_val_results.mean()* 100:.2f}%')"
   ]
  },
  {
   "cell_type": "code",
   "execution_count": null,
   "id": "c9d90674",
   "metadata": {},
   "outputs": [
    {
     "name": "stdout",
     "output_type": "stream",
     "text": [
      "[LightGBM] [Info] Number of positive: 13617, number of negative: 13617\n",
      "[LightGBM] [Info] Auto-choosing row-wise multi-threading, the overhead of testing was 0.001570 seconds.\n",
      "You can set `force_row_wise=true` to remove the overhead.\n",
      "And if memory is not enough, you can set `force_col_wise=true`.\n",
      "[LightGBM] [Info] Total Bins 736\n",
      "[LightGBM] [Info] Number of data points in the train set: 27234, number of used features: 10\n",
      "[LightGBM] [Info] [binary:BoostFromScore]: pavg=0.500000 -> initscore=0.000000\n",
      "lIght GBM after SMOTE\n",
      "              precision    recall  f1-score   support\n",
      "\n",
      "           0       0.80      0.79      0.80      3443\n",
      "           1       0.58      0.60      0.59      1653\n",
      "\n",
      "    accuracy                           0.73      5096\n",
      "   macro avg       0.69      0.70      0.69      5096\n",
      "weighted avg       0.73      0.73      0.73      5096\n",
      "\n"
     ]
    }
   ],
   "source": [
    "smote_lgbm = lgb.LGBMClassifier(is_unbalance=True, random_state=42)\n",
    "smote_lgbm.fit(x_train_resampled, y_train_resampled)\n",
    "y_pred = smote_lgbm.predict(x_test)  \n",
    "print(\"lIght GBM after SMOTE\")\n",
    "print(classification_report(y_pred,y_test))"
   ]
  },
  {
   "cell_type": "code",
   "execution_count": null,
   "id": "d2115679",
   "metadata": {},
   "outputs": [
    {
     "name": "stdout",
     "output_type": "stream",
     "text": [
      "Fitting 3 folds for each of 10 candidates, totalling 30 fits\n",
      "[LightGBM] [Info] Number of positive: 13617, number of negative: 13617\n",
      "[LightGBM] [Info] Auto-choosing row-wise multi-threading, the overhead of testing was 0.010757 seconds.\n",
      "You can set `force_row_wise=true` to remove the overhead.\n",
      "And if memory is not enough, you can set `force_col_wise=true`.\n",
      "[LightGBM] [Info] Total Bins 736\n",
      "[LightGBM] [Info] Number of data points in the train set: 27234, number of used features: 10\n",
      "[LightGBM] [Info] [binary:BoostFromScore]: pavg=0.500000 -> initscore=0.000000\n",
      "Best Parameters:  {'n_estimators': 150, 'max_depth': 15, 'learning_rate': 0.0002}\n"
     ]
    }
   ],
   "source": [
    "from sklearn.model_selection import RandomizedSearchCV\n",
    "param_dist = {\n",
    "    \"max_depth\":[5,7,10,15],\n",
    "    \"n_estimators\":[150,200,170],\n",
    "    \"learning_rate\":[2e-4,1e-9]\n",
    "}\n",
    "\n",
    "lgbm_random = RandomizedSearchCV(lgbm,param_distributions=param_dist,n_iter=10,cv=3,verbose=1,n_jobs=-1)\n",
    "lgbm_random.fit(x_train_resampled,y_train_resampled)\n",
    "print(\"Best Parameters: \",lgbm_random.best_params_) "
   ]
  },
  {
   "cell_type": "code",
   "execution_count": null,
   "id": "5b055a7f",
   "metadata": {},
   "outputs": [
    {
     "data": {
      "image/png": "[encoded data removed]",
      "text/plain": [
       "<Figure size 800x550 with 2 Axes>"
      ]
     },
     "metadata": {},
     "output_type": "display_data"
    }
   ],
   "source": [
    "import shap\n",
    "\n",
    "explainer = shap.Explainer(lgbm_random.best_estimator_)\n",
    "shap_values = explainer(x_test)\n",
    "shap.summary_plot(shap_values, x_test)\n"
   ]
  },
  {
   "cell_type": "code",
   "execution_count": null,
   "id": "0e52a617",
   "metadata": {},
   "outputs": [
    {
     "data": {
      "text/plain": [
       "<Axes: >"
      ]
     },
     "execution_count": 33,
     "metadata": {},
     "output_type": "execute_result"
    },
    {
     "data": {
      "image/png": "[encoded data removed]",
      "text/plain": [
       "<Figure size 640x480 with 2 Axes>"
      ]
     },
     "metadata": {},
     "output_type": "display_data"
    }
   ],
   "source": [
    "from sklearn.ensemble import RandomForestClassifier\n",
    "\n",
    "rf = RandomForestClassifier(random_state=42,class_weight=\"balanced\",n_estimators=150,criterion=\"gini\",max_depth=25)   \n",
    "rf.fit(x_train,y_train)\n",
    "\n",
    "y_pred = rf.predict(x_test)\n",
    "\n",
    "from sklearn.metrics import confusion_matrix\n",
    "\n",
    "conn = confusion_matrix(y_pred,y_test)\n",
    "sns.heatmap(conn,annot = True,fmt=\".0f\")"
   ]
  },
  {
   "cell_type": "code",
   "execution_count": null,
   "id": "e7815ad1",
   "metadata": {},
   "outputs": [
    {
     "name": "stdout",
     "output_type": "stream",
     "text": [
      "Random Forest\n",
      "              precision    recall  f1-score   support\n",
      "\n",
      "           0       0.85      0.78      0.81      3739\n",
      "           1       0.51      0.64      0.56      1357\n",
      "\n",
      "    accuracy                           0.74      5096\n",
      "   macro avg       0.68      0.71      0.69      5096\n",
      "weighted avg       0.76      0.74      0.75      5096\n",
      "\n"
     ]
    }
   ],
   "source": [
    "print(\"Random Forest\")\n",
    "print(classification_report(y_pred,y_test))"
   ]
  },
  {
   "cell_type": "code",
   "execution_count": null,
   "id": "f7f26dbe",
   "metadata": {},
   "outputs": [
    {
     "data": {
      "text/plain": [
       "'4.6.0'"
      ]
     },
     "execution_count": 1,
     "metadata": {},
     "output_type": "execute_result"
    }
   ],
   "source": [
    "import lightgbm as lgb\n",
    "lgb.__version__"
   ]
  },
  {
   "cell_type": "code",
   "execution_count": null,
   "id": "872b7fe6",
   "metadata": {},
   "outputs": [],
   "source": []
  }
 ],
 "metadata": {
  "kernelspec": {
   "display_name": "base",
   "language": "python",
   "name": "python3"
  },
  "language_info": {
   "codemirror_mode": {
    "name": "ipython",
    "version": 3
   },
   "file_extension": ".py",
   "mimetype": "text/x-python",
   "name": "python",
   "nbconvert_exporter": "python",
   "pygments_lexer": "ipython3",
   "version": "3.12.4"
  }
 },
 "nbformat": 4,
 "nbformat_minor": 5
}
